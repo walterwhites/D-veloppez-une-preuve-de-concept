{
 "cells": [
  {
   "cell_type": "markdown",
   "source": [
    "# Notebook Point Entrée API"
   ],
   "metadata": {
    "collapsed": false
   },
   "id": "433fd6f285a9095"
  },
  {
   "cell_type": "markdown",
   "source": [
    "## Environnement Local"
   ],
   "metadata": {
    "collapsed": false
   },
   "id": "2926f56a66fea120"
  },
  {
   "cell_type": "markdown",
   "source": [
    "### XLNET"
   ],
   "metadata": {
    "collapsed": false
   },
   "id": "6f308b962538f677"
  },
  {
   "cell_type": "code",
   "execution_count": 1,
   "outputs": [
    {
     "name": "stdout",
     "output_type": "stream",
     "text": [
      "Résultat de la prédiction:\n",
      "{'prediction': [[['swift', 0.8896478414535522], ['ios', 0.755354106426239], ['xcode', 0.31520286202430725], ['objective-c', 0.0870935469865799], ['iphone', 0.06072108447551727]]]}\n"
     ]
    }
   ],
   "source": [
    "import requests\n",
    "\n",
    "data = {\n",
    "    \"title\": 'swift class not found',\n",
    "    \"body\": 'I get Xcode compilation error, class not found, below my code'\n",
    "}\n",
    "\n",
    "url = 'http://127.0.0.1:8000/models/xlnet/predict/'\n",
    "\n",
    "response = requests.post(url, params=data)\n",
    "\n",
    "if response.status_code == 200:\n",
    "    print(\"XLNET - Résultat de la prédiction:\")\n",
    "    print(response.json())\n",
    "else:\n",
    "    print(\"La requête a échoué avec le code:\", response.status_code)\n"
   ],
   "metadata": {
    "collapsed": false,
    "ExecuteTime": {
     "end_time": "2024-03-24T13:51:29.645230Z",
     "start_time": "2024-03-24T13:51:28.768261Z"
    }
   },
   "id": "22f257818983720c"
  },
  {
   "cell_type": "markdown",
   "source": [
    "### Multinomial Naive Bayes"
   ],
   "metadata": {
    "collapsed": false
   },
   "id": "60ef0ecbe6a1f977"
  },
  {
   "cell_type": "code",
   "execution_count": 5,
   "outputs": [
    {
     "name": "stdout",
     "output_type": "stream",
     "text": [
      "XLNET - Résultat de la prédiction:\n",
      "{'prediction': [['ios', 0.1372315899983525], ['swift', 0.06225328932136474], ['xcode', 0.002498683278242839], ['objective-c', 0.0020953683542848825], ['java', 0.001821426014260858]]}\n"
     ]
    }
   ],
   "source": [
    "data = {\n",
    "    \"title\": 'swift class not found',\n",
    "    \"body\": 'I get Xcode compilation error, class not found, below my code'\n",
    "}\n",
    "\n",
    "url = 'http://127.0.0.1:8000/models/multinomial_naive_bayes/predict/'\n",
    "\n",
    "response = requests.post(url, params=data)\n",
    "\n",
    "if response.status_code == 200:\n",
    "    print(\"XLNET - Résultat de la prédiction:\")\n",
    "    print(response.json())\n",
    "else:\n",
    "    print(\"La requête a échoué avec le code:\", response.status_code)\n"
   ],
   "metadata": {
    "collapsed": false,
    "ExecuteTime": {
     "end_time": "2024-03-24T16:18:12.612428Z",
     "start_time": "2024-03-24T16:18:11.095288Z"
    }
   },
   "id": "364dc0611fc560a5"
  },
  {
   "cell_type": "markdown",
   "source": [
    "## Environnement Cloud"
   ],
   "metadata": {
    "collapsed": false
   },
   "id": "377a400376c5fb3f"
  },
  {
   "cell_type": "code",
   "execution_count": null,
   "outputs": [],
   "source": [
    "import requests\n",
    "\n",
    "# Définir les données à envoyer\n",
    "data = {\n",
    "    \"title\": 'swift class not found',\n",
    "    \"body\": 'I get Xcode compilation error, class not found, below my code'\n",
    "}\n",
    "\n",
    "# URL des 2 environnements heroku (même API)\n",
    "\n",
    "url = 'https://projet5-ee33149cf751.herokuapp.com/models/supervised/predict/'\n",
    "# url2 = 'https://project5-f3fbec0b0078.herokuapp.com/models/supervised/predict/'\n",
    "\n",
    "response = requests.post(url, params=data)\n",
    "\n",
    "if response.status_code == 200:\n",
    "    print(\"Résultat de la prédiction:\")\n",
    "    print(response.json())\n",
    "else:\n",
    "    print(\"La requête a échoué avec le code:\", response.status_code)\n"
   ],
   "metadata": {
    "collapsed": false
   },
   "id": "cd027d7d96647b75"
  }
 ],
 "metadata": {
  "kernelspec": {
   "display_name": "Python 3",
   "language": "python",
   "name": "python3"
  },
  "language_info": {
   "codemirror_mode": {
    "name": "ipython",
    "version": 2
   },
   "file_extension": ".py",
   "mimetype": "text/x-python",
   "name": "python",
   "nbconvert_exporter": "python",
   "pygments_lexer": "ipython2",
   "version": "2.7.6"
  }
 },
 "nbformat": 4,
 "nbformat_minor": 5
}
