{
 "cells": [
  {
   "cell_type": "markdown",
   "id": "7d7013fb3d50c0d6",
   "metadata": {},
   "source": [
    "# Notebook Exploration"
   ]
  },
  {
   "cell_type": "markdown",
   "id": "2dcc1f92ef9b0e28",
   "metadata": {},
   "source": [
    "## Functions"
   ]
  },
  {
   "cell_type": "code",
   "execution_count": 1,
   "id": "8ae869960cf0b7a8",
   "metadata": {
    "ExecuteTime": {
     "end_time": "2024-03-24T10:35:49.128194Z",
     "start_time": "2024-03-24T10:35:47.814383Z"
    }
   },
   "outputs": [
    {
     "ename": "ModuleNotFoundError",
     "evalue": "No module named 'spacy'",
     "output_type": "error",
     "traceback": [
      "\u001B[0;31m---------------------------------------------------------------------------\u001B[0m",
      "\u001B[0;31mModuleNotFoundError\u001B[0m                       Traceback (most recent call last)",
      "Cell \u001B[0;32mIn[1], line 13\u001B[0m\n\u001B[1;32m     11\u001B[0m \u001B[38;5;28;01mfrom\u001B[39;00m \u001B[38;5;21;01mnltk\u001B[39;00m\u001B[38;5;21;01m.\u001B[39;00m\u001B[38;5;21;01mcorpus\u001B[39;00m \u001B[38;5;28;01mimport\u001B[39;00m stopwords\n\u001B[1;32m     12\u001B[0m \u001B[38;5;28;01mfrom\u001B[39;00m \u001B[38;5;21;01mnltk\u001B[39;00m\u001B[38;5;21;01m.\u001B[39;00m\u001B[38;5;21;01mstem\u001B[39;00m \u001B[38;5;28;01mimport\u001B[39;00m WordNetLemmatizer\n\u001B[0;32m---> 13\u001B[0m \u001B[38;5;28;01mimport\u001B[39;00m \u001B[38;5;21;01mspacy\u001B[39;00m\n\u001B[1;32m     14\u001B[0m \u001B[38;5;28;01mfrom\u001B[39;00m \u001B[38;5;21;01mnltk\u001B[39;00m\u001B[38;5;21;01m.\u001B[39;00m\u001B[38;5;21;01mstem\u001B[39;00m \u001B[38;5;28;01mimport\u001B[39;00m WordNetLemmatizer\n\u001B[1;32m     16\u001B[0m \u001B[38;5;28;01mdef\u001B[39;00m \u001B[38;5;21mpreprocess_text\u001B[39m(text):\n",
      "\u001B[0;31mModuleNotFoundError\u001B[0m: No module named 'spacy'"
     ]
    }
   ],
   "source": [
    "import nltk\n",
    "import re\n",
    "from bs4 import BeautifulSoup\n",
    "import mlflow\n",
    "import mlflow.sklearn\n",
    "import pandas as pd\n",
    "from sklearn.model_selection import train_test_split\n",
    "from sklearn.ensemble import RandomForestClassifier\n",
    "from sklearn.metrics import accuracy_score\n",
    "from nltk.tokenize import word_tokenize, sent_tokenize\n",
    "from nltk.corpus import stopwords\n",
    "from nltk.stem import WordNetLemmatizer\n",
    "import spacy\n",
    "from nltk.stem import WordNetLemmatizer\n",
    "\n",
    "def preprocess_text(text):\n",
    "    text = lowercase_text(text)\n",
    "    text = remove_urls(text)\n",
    "    # Tokenization\n",
    "    word_tokens = tokenization(text)\n",
    "    word_tokens = clear_ponctuation(word_tokens)\n",
    "    # custom clean\n",
    "    word_tokens = custom_clean(word_tokens)\n",
    "    # Lemmatisation\n",
    "    lemmatized_words = lemmatization(word_tokens)\n",
    "    # Suppression des stopwords\n",
    "    return remove_stopwords(lemmatized_words)\n",
    "\n",
    "def remove_urls(text):\n",
    "    regex = r'https?://\\S+|www\\.\\S+'\n",
    "    text = re.sub(regex, '', text)\n",
    "    return text\n",
    "\n",
    "def custom_clean(text):\n",
    "    # remplacer les sauts de lignes par des espaces\n",
    "    word_tokens = [word_token.replace('\\n', ' ') for word_token in text]\n",
    "    # supprimer les espaces en trop\n",
    "    word_tokens = [re.sub(r'\\s+', ' ', phrase) for phrase in word_tokens]\n",
    "    return word_tokens\n",
    "    \n",
    "def lowercase_text(text):\n",
    "    return text.lower()\n",
    "\n",
    "def tokenization(text):\n",
    "    return sent_tokenize(text)\n",
    "\n",
    "def lemmatization(word_tokens):\n",
    "    lemmatizer = WordNetLemmatizer()\n",
    "    return [lemmatizer.lemmatize(word) for word in word_tokens]\n",
    "\n",
    "def lemmatize_and_flatten(phrases):\n",
    "    lemmatizer = WordNetLemmatizer()\n",
    "    return [lemmatizer.lemmatize(word) for phrase in phrases for word in ' '.join(phrase).split()]\n",
    "\n",
    "def remove_stopwords(sentences):\n",
    "    stop_words = set(stopwords.words('english'))\n",
    "    result = []\n",
    "    for sentence in sentences:\n",
    "        words = sentence.split()\n",
    "        filtered_words = [word for word in words if word.lower() not in stop_words]\n",
    "        result.append(' '.join(filtered_words))\n",
    "    return result\n",
    "\n",
    "def clear_ponctuation(text):\n",
    "    return [re.sub(r'[^a-zA-Z0-9\\s]', '', phrase) for phrase in text]\n",
    "\n",
    "def extract_text_from_body(html_body):\n",
    "    soup = BeautifulSoup(html_body, 'html.parser')\n",
    "    return soup.get_text()\n",
    "\n",
    "def transform_tags(tags_string):\n",
    "    # Utiliser une expression régulière pour extraire les tags entre '<' et '>'\n",
    "    tags = re.findall(r'<(.*?)>', tags_string)\n",
    "    # Joindre les tags avec des virgules pour obtenir une chaîne\n",
    "    cleaned_tags = ','.join(tags)\n",
    "    return cleaned_tags\n",
    "\n",
    "# Exemple de tâche d'apprentissage machine\n",
    "def train_and_evaluate(data):\n",
    "    # Chargez les données\n",
    "    X = data.drop('tags', axis=1)\n",
    "    y = data['tags']\n",
    "\n",
    "    # Divisez les données en ensemble d'entraînement et ensemble de test\n",
    "    X_train, X_test, y_train, y_test = train_test_split(X, y, test_size=0.2, random_state=42)\n",
    "\n",
    "    # Initialisation de MLflow\n",
    "    mlflow.start_run()\n",
    "\n",
    "    # Paramètres\n",
    "    param_max_depth = 10\n",
    "    param_n_estimators = 100\n",
    "\n",
    "    # Enregistrez les paramètres\n",
    "    mlflow.log_param(\"max_depth\", param_max_depth)\n",
    "    mlflow.log_param(\"n_estimators\", param_n_estimators)\n",
    "\n",
    "    # Créez et entraînez le modèle\n",
    "    model = RandomForestClassifier(max_depth=param_max_depth, n_estimators=param_n_estimators)\n",
    "    model.fit(X_train, y_train)\n",
    "\n",
    "    # Faites des prédictions sur l'ensemble de test\n",
    "    y_pred = model.predict(X_test)\n",
    "\n",
    "    # Calculez et enregistrez la métrique\n",
    "    accuracy = accuracy_score(y_test, y_pred)\n",
    "    mlflow.log_metric(\"accuracy\", accuracy)\n",
    "\n",
    "    # Enregistrez le modèle\n",
    "    mlflow.sklearn.log_model(model, \"model\")\n",
    "\n",
    "    # Enregistrez un fichier artefact (par exemple, un fichier texte)\n",
    "    with open(\"artifact.txt\", \"w\") as artifact_file:\n",
    "        artifact_file.write(\"Contenu de l'artefact\")\n",
    "\n",
    "    mlflow.log_artifact(\"artifact.txt\")\n",
    "\n",
    "    # Fin de l'expérience MLflow\n",
    "    mlflow.end_run()\n"
   ]
  },
  {
   "cell_type": "markdown",
   "id": "f675b5d911b4057a",
   "metadata": {},
   "source": [
    "## Récupération des données "
   ]
  },
  {
   "cell_type": "code",
   "execution_count": null,
   "id": "1b9c32568773dbe",
   "metadata": {
    "ExecuteTime": {
     "end_time": "2024-03-24T10:35:49.129723Z",
     "start_time": "2024-03-24T10:35:49.128597Z"
    }
   },
   "outputs": [],
   "source": [
    "from sklearn.model_selection import train_test_split\n",
    "\n",
    "data = pd.read_csv(\"dataset.csv\")\n",
    "data.columns = data.columns.str.lower()\n",
    "\n",
    "# Garder seulement 100% des données\n",
    "percent_to_keep = 1\n",
    "data_subset = data.sample(frac=percent_to_keep, random_state=42)\n",
    "\n",
    "print(len(data_subset))\n",
    "\n",
    "# Afficher les premières lignes du nouveau sous-ensemble\n",
    "print(data_subset.head())\n",
    "\n",
    "# Enregistrer le nouveau sous-ensemble dans un nouveau fichier CSV si nécessaire\n",
    "data_subset.to_csv(\"dataset_subset.csv\", index=False)\n"
   ]
  },
  {
   "cell_type": "markdown",
   "source": [],
   "metadata": {
    "collapsed": false
   },
   "id": "7f7fcaf2cf7786cd"
  },
  {
   "cell_type": "markdown",
   "id": "3b2a3c8dffdfc855",
   "metadata": {},
   "source": [
    "## Supression des balises HTML avec BeautifulSoup"
   ]
  },
  {
   "cell_type": "code",
   "execution_count": null,
   "id": "c438c40163e13e5e",
   "metadata": {
    "ExecuteTime": {
     "start_time": "2024-03-24T10:35:49.129664Z"
    }
   },
   "outputs": [],
   "source": [
    "data_subset['body'] = data_subset['body'].apply(extract_text_from_body)"
   ]
  },
  {
   "cell_type": "markdown",
   "id": "c81459f5aaf92c65",
   "metadata": {},
   "source": [
    "## Reformatage des tags pour remplacer les chevrons par des virgules"
   ]
  },
  {
   "cell_type": "code",
   "execution_count": null,
   "id": "b498a0345cfe7ca0",
   "metadata": {
    "ExecuteTime": {
     "end_time": "2024-03-24T10:35:49.131277Z",
     "start_time": "2024-03-24T10:35:49.130727Z"
    }
   },
   "outputs": [],
   "source": [
    "data_subset['tags_transformed'] = data_subset['tags'].apply(transform_tags)"
   ]
  },
  {
   "cell_type": "markdown",
   "id": "9012ad4f75e3b29c",
   "metadata": {},
   "source": [
    "## Tokenization and Lemmatization with Stopword Removal on Title et Body"
   ]
  },
  {
   "cell_type": "code",
   "execution_count": null,
   "id": "877b5309ca69a66f",
   "metadata": {
    "ExecuteTime": {
     "end_time": "2024-03-24T10:35:49.131926Z",
     "start_time": "2024-03-24T10:35:49.131721Z"
    }
   },
   "outputs": [],
   "source": [
    "data_subset['title_lemmatized'] = data_subset['title'].apply(preprocess_text)\n",
    "data_subset['body_lemmatized'] = data_subset['body'].apply(preprocess_text)"
   ]
  },
  {
   "cell_type": "code",
   "execution_count": null,
   "id": "88916edf8e9444df",
   "metadata": {
    "ExecuteTime": {
     "start_time": "2024-03-24T10:35:49.132507Z"
    }
   },
   "outputs": [],
   "source": [
    "data_subset.to_csv(\"dataset_transformed.csv\", index=False)"
   ]
  },
  {
   "cell_type": "markdown",
   "id": "a33d6c5a9e7f3722",
   "metadata": {},
   "source": [
    "## Sauvegarder les données nettoyées"
   ]
  },
  {
   "cell_type": "code",
   "execution_count": null,
   "id": "f5f366311af27f70",
   "metadata": {
    "ExecuteTime": {
     "start_time": "2024-03-24T10:35:49.133095Z"
    }
   },
   "outputs": [],
   "source": [
    "columns_to_keep = ['title_lemmatized', 'body_lemmatized', 'tags_transformed', 'creationdate']\n",
    "subset_to_save = data_subset[columns_to_keep]\n",
    "subset_to_save.to_csv(\"dataset_cleaned.csv\", index=False)"
   ]
  },
  {
   "cell_type": "markdown",
   "id": "c13917c129cf6091",
   "metadata": {},
   "source": [
    "## Nuage de mots"
   ]
  },
  {
   "cell_type": "code",
   "execution_count": null,
   "id": "52233e569fd9479f",
   "metadata": {
    "ExecuteTime": {
     "end_time": "2024-03-24T10:35:49.134480Z",
     "start_time": "2024-03-24T10:35:49.133647Z"
    }
   },
   "outputs": [],
   "source": [
    "from wordcloud import WordCloud\n",
    "import matplotlib.pyplot as plt\n",
    "\n",
    "all_words = [word for words_list in subset_to_save['title_lemmatized'] + subset_to_save['body_lemmatized'] for word in words_list]\n",
    "\n",
    "title_words = [word for words_list in subset_to_save['title_lemmatized'] for word in words_list]\n",
    "\n",
    "body_words = [word for words_list in subset_to_save['body_lemmatized'] for word in words_list]\n",
    "\n",
    "wordcloud = WordCloud(width=800, height=400, max_words=100, background_color='white').generate(' '.join(all_words))\n",
    "\n",
    "title_wordcloud = WordCloud(width=800, height=400, max_words=100, background_color='white').generate(' '.join(title_words))\n",
    "\n",
    "body_wordcloud = WordCloud(width=800, height=400, max_words=100, background_color='white').generate(' '.join(body_words))\n",
    "\n",
    "plt.figure(num=1, figsize=(10, 5))\n",
    "plt.title('Nuage de mots pour titre et body')\n",
    "plt.imshow(wordcloud, interpolation='bilinear')\n",
    "plt.axis('off')\n",
    "plt.savefig('nuage_de_mots.png')\n",
    "plt.show()\n",
    "plt.close('all')\n",
    "\n",
    "plt.figure(num=2, figsize=(10, 5))\n",
    "plt.title('Nuage de mots titre')\n",
    "plt.imshow(title_wordcloud, interpolation='bilinear')\n",
    "plt.axis('off')\n",
    "plt.savefig('nuage_de_mots_titre.png')\n",
    "plt.show()\n",
    "plt.close('all')\n",
    "\n",
    "plt.figure(num=3, figsize=(10, 5))\n",
    "plt.title('Nuage de mots body')\n",
    "plt.imshow(body_wordcloud, interpolation='bilinear')\n",
    "plt.axis('off')\n",
    "plt.savefig('nuage_de_mots_body.png')\n",
    "plt.show()\n",
    "plt.close('all')"
   ]
  },
  {
   "cell_type": "markdown",
   "id": "ef008ed23defc51e",
   "metadata": {},
   "source": [
    "## Graph outlier words"
   ]
  },
  {
   "cell_type": "code",
   "execution_count": null,
   "id": "200a0d676ce46d27",
   "metadata": {
    "ExecuteTime": {
     "start_time": "2024-03-24T10:35:49.134232Z"
    }
   },
   "outputs": [],
   "source": [
    "from collections import Counter, OrderedDict\n",
    "\n",
    "nltk_stopwords = set(stopwords.words('english'))\n",
    "\n",
    "title_and_body_lemmatized = subset_to_save['title_lemmatized'] + subset_to_save['body_lemmatized']\n",
    "all_words = lemmatize_and_flatten(title_and_body_lemmatized)\n",
    "all_words_without_stopwords = [word for word in all_words if word.lower() not in nltk_stopwords]\n",
    "\n",
    "word_freq = Counter(all_words_without_stopwords)\n",
    "word_freq = Counter(all_words_without_stopwords)\n",
    "outliers = [word for word, freq in word_freq.items()]\n",
    "word_freq_ordered = OrderedDict(word_freq)\n",
    "sorted_outliers = sorted(outliers, key=lambda word: word_freq_ordered[word], reverse=True)\n",
    "top_outliers = sorted_outliers[:30]\n",
    "plt.figure(figsize=(10, 5))\n",
    "plt.bar(top_outliers, [word_freq[word] for word in top_outliers])\n",
    "plt.title('Mots Outliers')\n",
    "plt.xlabel('Mots')\n",
    "plt.ylabel('Fréquence')\n",
    "plt.xticks(rotation=45, ha='right')\n",
    "plt.show()"
   ]
  }
 ],
 "metadata": {
  "kernelspec": {
   "display_name": "Python 3 (ipykernel)",
   "language": "python",
   "name": "python3"
  },
  "language_info": {
   "codemirror_mode": {
    "name": "ipython",
    "version": 3
   },
   "file_extension": ".py",
   "mimetype": "text/x-python",
   "name": "python",
   "nbconvert_exporter": "python",
   "pygments_lexer": "ipython3",
   "version": "3.11.4"
  }
 },
 "nbformat": 4,
 "nbformat_minor": 5
}
